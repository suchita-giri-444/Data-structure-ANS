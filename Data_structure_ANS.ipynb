{
  "nbformat": 4,
  "nbformat_minor": 0,
  "metadata": {
    "colab": {
      "provenance": []
    },
    "kernelspec": {
      "name": "python3",
      "display_name": "Python 3"
    },
    "language_info": {
      "name": "python"
    }
  },
  "cells": [
    {
      "cell_type": "markdown",
      "source": [
        "#Data Types and Structures Questions"
      ],
      "metadata": {
        "id": "cXF2Rm9zZnda"
      }
    },
    {
      "cell_type": "markdown",
      "source": [
        "1. 1.\tWhat are data structures, and why are they important?\n",
        "\n",
        "-> Data structures are ways to organize and store data efficiently for easy access and manipulation. They include arrays, linked lists, stacks, queues, trees, graphs, and hash tables. They are important because they improve performance, optimize memory usage, and enable faster operations like searching, inserting, or deleting data. Choosing the right data structure ensures that a system can scale effectively and solve problems efficiently.\n"
      ],
      "metadata": {
        "id": "cVdnZ137Z4bI"
      }
    },
    {
      "cell_type": "markdown",
      "source": [
        "2. 2.\tExplain the difference between mutable and immutable data types with examples?\n",
        "\n",
        "-> Mutable data types can be modified after they are created. For example:\n",
        "•\tLists ([1, 2, 3]) can be changed by adding, removing, or modifying elements.\n",
        "Immutable data types cannot be changed once they are created. For example:\n",
        "•\tTuples ((1, 2, 3)) cannot be altered after creation (no adding, removing, or modifying elements).\n",
        "•\tStrings (\"hello\") cannot be changed; operations create new strings instead.\n",
        "In summary:\n",
        "•\tMutable: Can be changed (e.g., lists, dictionaries).\n",
        "•\tImmutable: Cannot be changed (e.g., tuples, strings).\n"
      ],
      "metadata": {
        "id": "e_NTLWK0aIbF"
      }
    },
    {
      "cell_type": "markdown",
      "source": [
        "3. \tWhat are the main differences between lists and tuples in Python?\n",
        "\n",
        "-> The main differences between lists and tuples in Python are:\n",
        "1.\tMutability:\n",
        "o\tLists are mutable, meaning their elements can be changed (added, removed, or modified).\n",
        "o\tTuples are immutable, meaning their elements cannot be changed once created.\n",
        "2.\tSyntax:\n",
        "o\tLists are defined using square brackets: my_list = [1, 2, 3].\n",
        "o\tTuples are defined using parentheses: my_tuple = (1, 2, 3).\n",
        "3.\tPerformance:\n",
        "o\tTuples are generally faster than lists because they are immutable.\n",
        "4.\tUse case:\n",
        "o\tLists are used when you need a collection that can be modified.\n",
        "o\tTuples are used when you need a collection that should not be changed, ensuring data integrity.\n",
        "\n"
      ],
      "metadata": {
        "id": "cajSawc9aOT2"
      }
    },
    {
      "cell_type": "markdown",
      "source": [
        "4.\tDescribe how dictionaries store data.\n",
        "\n",
        "-> Dictionaries in Python store data in key-value pairs. Each piece of data is accessed using a unique key, which is mapped to a specific value.\n",
        "•\tKey: A unique identifier (e.g., a name or an ID).\n",
        "•\tValue: The data associated with that key (e.g., a phone number or age).\n",
        "For example:\n",
        "my_dict = {\"name\": \"Alice\", \"age\": 25}\n",
        "Here, \"name\" is a key, and \"Alice\" is its associated value. Similarly, \"age\" is a key, and 25 is its value.\n",
        "Dictionaries allow quick access to data by using the key to look up the value. They are unordered, meaning the items do not have a specific order.\n"
      ],
      "metadata": {
        "id": "42fXTq3UaabS"
      }
    },
    {
      "cell_type": "markdown",
      "source": [
        "5.\tWhy might you use a set instead of a list in Python?\n",
        "\n",
        "->You might use a set instead of a list in Python when you need:\n",
        "1.\tUniqueness: Sets automatically remove duplicate values, ensuring all elements are unique.\n",
        "2.\tFaster lookups: Sets allow faster membership tests (e.g., checking if an item is in the set) compared to lists.\n",
        "3.\tMathematical operations: Sets support operations like union, intersection, and difference, which are useful for working with collections of data.\n"
      ],
      "metadata": {
        "id": "0AbZxng7ajI5"
      }
    },
    {
      "cell_type": "markdown",
      "source": [
        "6.\tWhat is a string in Python, and how is it different from a list?\n",
        "\n",
        "->\tA string is a sequence of characters enclosed in quotes (' ' or \" \"). Unlike a list, strings are immutable, meaning you cannot change their elements after creation. Lists can store multiple data types and are mutable, allowing modification of elements.\n"
      ],
      "metadata": {
        "id": "YxNeLxwDarRw"
      }
    },
    {
      "cell_type": "markdown",
      "source": [
        "7.\tHow do tuples ensure data integrity in Python?\n",
        "\n",
        "->\tTuples are immutable, meaning once they are created, their values cannot be changed. This ensures data integrity, preventing accidental modifications to the data.\n"
      ],
      "metadata": {
        "id": "zFXS0DxkbBz_"
      }
    },
    {
      "cell_type": "markdown",
      "source": [
        "8.\tWhat is a hash table, and how does it relate to dictionaries in Python?\n",
        "\n",
        "->\tA hash table is a data structure that maps keys to values using a hash function for fast lookups. Dictionaries in Python are implemented using hash tables, enabling efficient access to values using unique keys.\n"
      ],
      "metadata": {
        "id": "CwqzzAYCbJGv"
      }
    },
    {
      "cell_type": "markdown",
      "source": [
        "9.\tCan lists contain different data types in Python?\n",
        "\n",
        "-> Yes, lists can store elements of different data types, such as integers, strings, and other objects.\n",
        "For example: [1, \"hello\", 3.14].\n"
      ],
      "metadata": {
        "id": "ymJkSL4KbPR9"
      }
    },
    {
      "cell_type": "markdown",
      "source": [
        "10.\tExplain why strings are immutable in Python.\n",
        "\n",
        "-> Strings are immutable in Python to ensure performance and memory efficiency. Since strings are often used in many places, immutability avoids the need to copy them each time, preventing accidental changes.\n"
      ],
      "metadata": {
        "id": "_Ooq7PgybctI"
      }
    },
    {
      "cell_type": "markdown",
      "source": [
        "11.\tWhat advantages do dictionaries offer over lists for certain tasks?\n",
        "\n",
        "->Dictionaries provide faster lookups by key and allow mapping data with unique keys. Unlike lists, dictionaries can store values with a specific label (key), making it easier to access and organize data efficiently.\n"
      ],
      "metadata": {
        "id": "WM4VVOAJbj7l"
      }
    },
    {
      "cell_type": "markdown",
      "source": [
        "12.\tHow do sets handle duplicate values in Python?\n",
        "\n",
        "-> Sets automatically remove duplicates. If you try to add a duplicate item, it will not be included in the set.\n"
      ],
      "metadata": {
        "id": "PeZUy4xUb25H"
      }
    },
    {
      "cell_type": "markdown",
      "source": [
        "13.\tDescribe a scenario where using a tuple would be preferable over a list.\n",
        "->\tUse a tuple when you need to store data that should not change, such as coordinates (e.g., (x, y)), representing fixed data. Tuples are also faster than lists when working with immutable data.\n"
      ],
      "metadata": {
        "id": "ahnbxY5vcC0L"
      }
    },
    {
      "cell_type": "markdown",
      "source": [
        "14.\tHow does the “in” keyword work differently for lists and dictionaries?\n",
        "->\tFor lists, the \"in\" keyword checks if an element exists in the list. For dictionaries, it checks if a key exists, not a value.\n"
      ],
      "metadata": {
        "id": "ZNch-Twtx8et"
      }
    },
    {
      "cell_type": "markdown",
      "source": [
        "15.\tCan you modify the elements of a tuple? Explain why or why not.\n",
        "-> You cannot modify the elements of a tuple because it is immutable. Once a tuple is created, its data cannot be changed.\n"
      ],
      "metadata": {
        "id": "YARZysQ1yQeV"
      }
    },
    {
      "cell_type": "markdown",
      "source": [
        "16.\tWhat is a nested dictionary, and give an example of its use case?\n",
        "->\tA nested dictionary is a dictionary within another dictionary.\n",
        " Example:\n",
        "Copy code\n",
        "student = {\"name\": \"Alice\", \"courses\": {\"math\": \"A\", \"science\": \"B\"}}\n",
        "Use case: Storing complex data like a student's record with multiple attributes.\n"
      ],
      "metadata": {
        "id": "haPe92Q3yZrR"
      }
    },
    {
      "cell_type": "markdown",
      "source": [
        "17.\tDescribe the time complexity of accessing elements in a dictionary.\n",
        "->\tThe time complexity for accessing elements in a dictionary is O(1) (constant time) on average due to the underlying hash table implementation.\n"
      ],
      "metadata": {
        "id": "jz9H7SkRyhLq"
      }
    },
    {
      "cell_type": "markdown",
      "source": [
        "18.\tIn what situations are lists preferred over dictionaries?\n",
        "->\tLists are preferred when you need an ordered collection of items or when you don’t need key-value mapping, such as for simple sequences or when maintaining the order of insertion is important.\n"
      ],
      "metadata": {
        "id": "1X0Vciqmyzsq"
      }
    },
    {
      "cell_type": "markdown",
      "source": [
        "19.\tWhy are dictionaries considered unordered, and how does that affect data retrieval?\n",
        "->\tDictionaries are unordered because their keys are stored in a hash table. As a result, the order of key-value pairs is not guaranteed. However, data retrieval is still efficient because access is based on keys, not order.\n"
      ],
      "metadata": {
        "id": "IJhKrj0Hy6Xi"
      }
    },
    {
      "cell_type": "markdown",
      "source": [
        "20.\tExplain the difference between a list and a dictionary in terms of data retrieval.\n",
        "->\tIn a list, data is accessed by index, while in a dictionary, data is accessed by a key. Lists are ordered, but dictionaries are unordered and rely on keys for fast lookup.\n"
      ],
      "metadata": {
        "id": "yujc38mnzCZ4"
      }
    },
    {
      "cell_type": "markdown",
      "source": [],
      "metadata": {
        "id": "QLE-7idwzOza"
      }
    },
    {
      "cell_type": "markdown",
      "source": [
        "#Practical Questions"
      ],
      "metadata": {
        "id": "RIbbP2LK2N1p"
      }
    },
    {
      "cell_type": "markdown",
      "source": [
        "1. Write a code to create a string with your name and print it."
      ],
      "metadata": {
        "id": "_be1psIT2RGs"
      }
    },
    {
      "cell_type": "code",
      "source": [
        "# Create a string with your name\n",
        "name = \"Abhishek yadav\"\n",
        "\n",
        "# Print the string\n",
        "print(name)"
      ],
      "metadata": {
        "id": "r2Mu9xu22WrW"
      },
      "execution_count": null,
      "outputs": []
    },
    {
      "cell_type": "markdown",
      "source": [
        "2.Write a code to find the length of the string \"Hello World\""
      ],
      "metadata": {
        "id": "P0t-gkvS2n6p"
      }
    },
    {
      "cell_type": "code",
      "source": [
        "  my_string = \"Hello World\"\n",
        "\n",
        "# Find and print the length of the string\n",
        "length = len(my_string)\n",
        "print(length)"
      ],
      "metadata": {
        "id": "HcbkwVNP2pmf"
      },
      "execution_count": null,
      "outputs": []
    },
    {
      "cell_type": "markdown",
      "source": [
        "3.Write a code to slice the first 3 characters from the string \"Python Programming\"."
      ],
      "metadata": {
        "id": "zpF4o_v52t2c"
      }
    },
    {
      "cell_type": "code",
      "source": [
        "my_string = \"Python Programming\"\n",
        "\n",
        "# Slice the first 3 characters\n",
        "sliced_string = my_string[:3]\n",
        "\n",
        "# Print the sliced string\n",
        "print(sliced_string)"
      ],
      "metadata": {
        "id": "KUcUP74g21XE"
      },
      "execution_count": null,
      "outputs": []
    },
    {
      "cell_type": "markdown",
      "source": [
        "4.Write a code to convert the string \"hello\" to uppercase."
      ],
      "metadata": {
        "id": "YbubBTD224Rt"
      }
    },
    {
      "cell_type": "code",
      "source": [
        "# Define the string\n",
        "my_string = \"hello\"\n",
        "\n",
        "# Convert the string to uppercase\n",
        "uppercase_string = my_string.upper()\n",
        "\n",
        "# Print the uppercase string\n",
        "print(uppercase_string)"
      ],
      "metadata": {
        "id": "LG9j4P6u27s8"
      },
      "execution_count": null,
      "outputs": []
    },
    {
      "cell_type": "markdown",
      "source": [
        "5.Write a code to replace the word \"apple\" with \"orange\" in the string \"I like apple\""
      ],
      "metadata": {
        "id": "5sTPi84N3GLx"
      }
    },
    {
      "cell_type": "code",
      "source": [
        "# Define the string\n",
        "my_string = \"I like apple\"\n",
        "\n",
        "# Replace \"apple\" with \"orange\"\n",
        "new_string = my_string.replace(\"apple\", \"orange\")\n",
        "\n",
        "# Print the new string\n",
        "print(new_string)"
      ],
      "metadata": {
        "id": "5bsllxDH3J68"
      },
      "execution_count": null,
      "outputs": []
    },
    {
      "cell_type": "markdown",
      "source": [
        "6.Write a code to create a list with numbers 1 to 5 and print it"
      ],
      "metadata": {
        "id": "fK8xUTPD3NMg"
      }
    },
    {
      "cell_type": "code",
      "source": [
        "# Create the list with numbers 1 to 5\n",
        "my_list = [1, 2, 3, 4, 5]\n",
        "\n",
        "# Print the list\n",
        "print(my_list)"
      ],
      "metadata": {
        "id": "LvcmUzWX3RTZ"
      },
      "execution_count": null,
      "outputs": []
    },
    {
      "cell_type": "markdown",
      "source": [
        "7.Write a code to append the number 10 to the list [1, 2, 3, 4]"
      ],
      "metadata": {
        "id": "ZoaxdVTj3Uu0"
      }
    },
    {
      "cell_type": "code",
      "source": [
        "# Define the list\n",
        "my_list = [1, 2, 3, 4]\n",
        "\n",
        "# Append the number 10 to the list\n",
        "my_list.append(10)\n",
        "\n",
        "# Print the updated list\n",
        "print(my_list)"
      ],
      "metadata": {
        "id": "qXw2NCfP3owt"
      },
      "execution_count": null,
      "outputs": []
    },
    {
      "cell_type": "markdown",
      "source": [
        "8.Write a code to remove the number 3 from the list [1, 2, 3, 4, 5]"
      ],
      "metadata": {
        "id": "db7ikMYg3rv2"
      }
    },
    {
      "cell_type": "code",
      "source": [
        "# Define the list\n",
        "my_list = [1, 2, 3, 4, 5]\n",
        "\n",
        "# Remove the number 3 from the list\n",
        "my_list.remove(3)\n",
        "\n",
        "# Print the updated list\n",
        "print(my_list)"
      ],
      "metadata": {
        "id": "oUrQnuMW3vKp"
      },
      "execution_count": null,
      "outputs": []
    },
    {
      "cell_type": "markdown",
      "source": [
        "9.Write a code to access the second element in the list ['a', 'b', 'c', 'd']"
      ],
      "metadata": {
        "id": "SxBio7Va3xkV"
      }
    },
    {
      "cell_type": "code",
      "source": [
        "# Define the list\n",
        "my_list = ['a', 'b', 'c', 'd']\n",
        "\n",
        "# Access the second element (index 1)\n",
        "second_element = my_list[1]\n",
        "\n",
        "# Print the second element\n",
        "print(second_element)"
      ],
      "metadata": {
        "id": "aKuDB4UD30yt"
      },
      "execution_count": null,
      "outputs": []
    },
    {
      "cell_type": "markdown",
      "source": [
        "10.Write a code to reverse the list [10, 20, 30, 40, 50]"
      ],
      "metadata": {
        "id": "E9YUEv8q33ah"
      }
    },
    {
      "cell_type": "code",
      "source": [
        "# Define the list\n",
        "my_list = [10, 20, 30, 40, 50]\n",
        "\n",
        "# Reverse the list\n",
        "my_list.reverse()\n",
        "\n",
        "# Print the reversed list\n",
        "print(my_list)"
      ],
      "metadata": {
        "id": "yJSucCe8374y"
      },
      "execution_count": null,
      "outputs": []
    },
    {
      "cell_type": "markdown",
      "source": [
        "11.Write a code to create a tuple with the elements 10, 20, 30 and print it."
      ],
      "metadata": {
        "id": "vNQ_4BDD3_QY"
      }
    },
    {
      "cell_type": "code",
      "source": [
        "# Create the tuple\n",
        "my_tuple = (10, 20, 30)\n",
        "\n",
        "# Print the tuple\n",
        "print(my_tuple)"
      ],
      "metadata": {
        "id": "6xGxLsll4EWu"
      },
      "execution_count": null,
      "outputs": []
    },
    {
      "cell_type": "markdown",
      "source": [
        "12.Write a code to access the first element of the tuple ('apple', 'banana', 'cherry')."
      ],
      "metadata": {
        "id": "JN49Y0uo4HkR"
      }
    },
    {
      "cell_type": "code",
      "source": [
        "# Define the tuple\n",
        "my_tuple = ('apple', 'banana', 'cherry')\n",
        "\n",
        "# Access the first element (index 0)\n",
        "first_element = my_tuple[0]\n",
        "\n",
        "# Print the first element\n",
        "print(first_element)"
      ],
      "metadata": {
        "id": "7US7cAc74Lsi"
      },
      "execution_count": null,
      "outputs": []
    },
    {
      "cell_type": "markdown",
      "source": [
        "13.Write a code to count how many times the number 2 appears in the tuple (1, 2, 3, 2, 4, 2)."
      ],
      "metadata": {
        "id": "jnLeBJuz4RrE"
      }
    },
    {
      "cell_type": "code",
      "source": [
        "# Define the tuple\n",
        "my_tuple = (1, 2, 3, 2, 4, 2)\n",
        "\n",
        "# Count how many times the number 2 appears\n",
        "count_2 = my_tuple.count(2)\n",
        "\n",
        "# Print the result\n",
        "print(count_2)"
      ],
      "metadata": {
        "id": "3MaImhGa4Vpm"
      },
      "execution_count": null,
      "outputs": []
    },
    {
      "cell_type": "markdown",
      "source": [
        "14.Write a code to find the index of the element \"cat\" in the tuple ('dog', 'cat', 'rabbit')."
      ],
      "metadata": {
        "id": "OZy1MRd04YnG"
      }
    },
    {
      "cell_type": "code",
      "source": [
        "# Define the tuple\n",
        "my_tuple = ('dog', 'cat', 'rabbit')\n",
        "\n",
        "# Find the index of \"cat\"\n",
        "index_of_cat = my_tuple.index('cat')\n",
        "\n",
        "# Print the result\n",
        "print(index_of_cat)"
      ],
      "metadata": {
        "id": "TtYlPdat5qyC"
      },
      "execution_count": null,
      "outputs": []
    },
    {
      "cell_type": "markdown",
      "source": [
        "15.Write a code to check if the element \"banana\" is in the tuple ('apple', 'orange', 'banana')."
      ],
      "metadata": {
        "id": "Bv3EJ_OA5tMk"
      }
    },
    {
      "cell_type": "code",
      "source": [
        "# Define the tuple\n",
        "my_tuple = ('apple', 'orange', 'banana')\n",
        "\n",
        "# Check if \"banana\" is in the tuple\n",
        "if \"banana\" in my_tuple:\n",
        "    print(\"Yes, 'banana' is in the tuple.\")\n",
        "else:\n",
        "    print(\"No, 'banana' is not in the tuple.\")"
      ],
      "metadata": {
        "id": "EvMFSfnu5xnR"
      },
      "execution_count": null,
      "outputs": []
    },
    {
      "cell_type": "markdown",
      "source": [
        "16.Write a code to create a set with the elements 1, 2, 3, 4, 5 and print it"
      ],
      "metadata": {
        "id": "w40LIXf750rR"
      }
    },
    {
      "cell_type": "code",
      "source": [
        "# Create the set\n",
        "my_set = {1, 2, 3, 4, 5}\n",
        "\n",
        "# Print the set\n",
        "print(my_set)"
      ],
      "metadata": {
        "id": "5Qhn8LvE548E"
      },
      "execution_count": null,
      "outputs": []
    },
    {
      "cell_type": "markdown",
      "source": [
        "17.Write a code to add the element 6 to the set {1, 2, 3, 4}."
      ],
      "metadata": {
        "id": "iYOAiayL5747"
      }
    },
    {
      "cell_type": "code",
      "source": [
        "# Define the set\n",
        "my_set = {1, 2, 3, 4}\n",
        "\n",
        "# Add the element 6 to the set\n",
        "my_set.add(6)\n",
        "\n",
        "# Print the updated set\n",
        "print(my_set)"
      ],
      "metadata": {
        "id": "F8irSAvc57jT"
      },
      "execution_count": null,
      "outputs": []
    },
    {
      "cell_type": "markdown",
      "source": [
        "18.Write a code to create a tuple with the elements 10, 20, 30 and print it."
      ],
      "metadata": {
        "id": "RoPVDmhf6FZG"
      }
    },
    {
      "cell_type": "code",
      "source": [
        "# Create the tuple\n",
        "my_tuple = (10, 20, 30)\n",
        "\n",
        "# Print the tuple\n",
        "print(my_tuple)"
      ],
      "metadata": {
        "id": "9NZv6Di-6Jkg"
      },
      "execution_count": null,
      "outputs": []
    },
    {
      "cell_type": "markdown",
      "source": [
        "19.Write a code to access the first element of the tuple ('apple', 'banana', 'cherry')."
      ],
      "metadata": {
        "id": "EEGAx3OZ6Zqf"
      }
    },
    {
      "cell_type": "code",
      "source": [
        "# Define the tuple\n",
        "my_tuple = ('apple', 'banana', 'cherry')\n",
        "\n",
        "# Access the first element (index 0)\n",
        "first_element = my_tuple[0]\n",
        "\n",
        "# Print the first element\n",
        "print(first_element)"
      ],
      "metadata": {
        "id": "8BFoFg146hMI"
      },
      "execution_count": null,
      "outputs": []
    },
    {
      "cell_type": "markdown",
      "source": [
        "20.Write a code to count how many times the number 2 appears in the tuple (1, 2, 3, 2, 4, 2)"
      ],
      "metadata": {
        "id": "wY7G4Bsf6p47"
      }
    },
    {
      "cell_type": "code",
      "source": [
        "# Define the tuple\n",
        "my_tuple = (1, 2, 3, 2, 4, 2)\n",
        "\n",
        "# Count how many times the number 2 appears\n",
        "count_2 = my_tuple.count(2)\n",
        "\n",
        "# Print the result\n",
        "print(count_2)"
      ],
      "metadata": {
        "id": "eIrHQmHc6vza"
      },
      "execution_count": null,
      "outputs": []
    },
    {
      "cell_type": "markdown",
      "source": [
        "21.Write a code to find the index of the element \"cat\" in the tuple ('dog', 'cat', 'rabbit')."
      ],
      "metadata": {
        "id": "I9aPlERp6zrO"
      }
    },
    {
      "cell_type": "code",
      "source": [
        "# Define the tuple\n",
        "my_tuple = ('dog', 'cat', 'rabbit')\n",
        "\n",
        "# Find the index of \"cat\"\n",
        "index_of_cat = my_tuple.index('cat')\n",
        "\n",
        "# Print the result\n",
        "print(index_of_cat)"
      ],
      "metadata": {
        "id": "zfnVwm1863kH"
      },
      "execution_count": null,
      "outputs": []
    },
    {
      "cell_type": "markdown",
      "source": [
        "22.Write a code to check if the element \"banana\" is in the tuple ('apple', 'orange', 'banana')."
      ],
      "metadata": {
        "id": "axCoZ99b66iN"
      }
    },
    {
      "cell_type": "code",
      "source": [
        "# Define the tuple\n",
        "my_tuple = ('apple', 'orange', 'banana')\n",
        "\n",
        "# Check if \"banana\" is in the tuple\n",
        "if \"banana\" in my_tuple:\n",
        "    print(\"Yes, 'banana' is in the tuple.\")\n",
        "else:\n",
        "    print(\"No, 'banana' is not in the tuple.\")"
      ],
      "metadata": {
        "id": "ER607Tyk7G5d"
      },
      "execution_count": null,
      "outputs": []
    },
    {
      "cell_type": "markdown",
      "source": [
        "23.Write a code to create a set with the elements 1, 2, 3, 4, 5 and print it."
      ],
      "metadata": {
        "id": "teDprWi-7KYu"
      }
    },
    {
      "cell_type": "code",
      "source": [
        "# Create the set\n",
        "my_set = {1, 2, 3, 4, 5}\n",
        "\n",
        "# Print the set\n",
        "print(my_set)"
      ],
      "metadata": {
        "id": "tz5pBRKk7P3d"
      },
      "execution_count": null,
      "outputs": []
    },
    {
      "cell_type": "markdown",
      "source": [
        "24.Write a code to add the element 6 to the set {1, 2, 3, 4}."
      ],
      "metadata": {
        "id": "nCTyX6Zd7SO3"
      }
    },
    {
      "cell_type": "code",
      "source": [
        "# Define the set\n",
        "my_set = {1, 2, 3, 4}\n",
        "\n",
        "# Add the element 6 to the set\n",
        "my_set.add(6)\n",
        "\n",
        "# Print the updated set\n",
        "print(my_set)"
      ],
      "metadata": {
        "id": "zxNtOXbx7Vk0"
      },
      "execution_count": null,
      "outputs": []
    },
    {
      "cell_type": "markdown",
      "source": [],
      "metadata": {
        "id": "ZZYVN3HN6gwZ"
      }
    },
    {
      "cell_type": "markdown",
      "source": [],
      "metadata": {
        "id": "Ua1qbox06Ihb"
      }
    }
  ]
}